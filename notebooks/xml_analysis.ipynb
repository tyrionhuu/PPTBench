{
 "cells": [
  {
   "cell_type": "code",
   "id": "35b4dd524adc77a5",
   "metadata": {
    "ExecuteTime": {
     "end_time": "2024-12-02T14:59:14.588759Z",
     "start_time": "2024-12-02T14:59:14.562654Z"
    }
   },
   "source": [
    "import zipfile\n",
    "import os\n",
    "import glob\n",
    "from collections import defaultdict\n",
    "from lxml import etree\n",
    "import matplotlib.pyplot as plt"
   ],
   "outputs": [],
   "execution_count": 5
  },
  {
   "metadata": {
    "ExecuteTime": {
     "end_time": "2024-12-02T14:59:14.623008Z",
     "start_time": "2024-12-02T14:59:14.614303Z"
    }
   },
   "cell_type": "code",
   "source": [
    "def analyze_pptx_files(directory):\n",
    "    pptx_files = glob.glob(os.path.join(directory, '*.pptx'))\n",
    "    shape_line_numbers = []\n",
    "    slide_line_numbers = []\n",
    "    presentation_line_numbers = []\n",
    "\n",
    "    for pptx_file in pptx_files:\n",
    "        with zipfile.ZipFile(pptx_file, 'r') as z:\n",
    "            # Analyze presentation.xml\n",
    "            try:\n",
    "                presentation_xml = z.read('ppt/presentation.xml').decode('utf-8')\n",
    "                presentation_lines = presentation_xml.count('\\n') + 1\n",
    "                presentation_line_numbers.append(presentation_lines)\n",
    "            except KeyError:\n",
    "                print(f\"Presentation XML not found in {pptx_file}\")\n",
    "                continue\n",
    "\n",
    "            # Analyze slides\n",
    "            slide_files = [name for name in z.namelist() if name.startswith('ppt/slides/slide')]\n",
    "            for slide_file in slide_files:\n",
    "                slide_xml = z.read(slide_file).decode('utf-8')\n",
    "                slide_lines = slide_xml.count('\\n') + 1\n",
    "                slide_line_numbers.append(slide_lines)\n",
    "\n",
    "                # Parse XML and get line numbers of shapes\n",
    "                parser = etree.XMLParser(recover=True, huge_tree=True)\n",
    "                root = etree.fromstring(slide_xml.encode('utf-8'), parser=parser)\n",
    "                for elem in root.iter():\n",
    "                    if elem.tag.endswith('}sp'):  # Shape element\n",
    "                        if elem.sourceline is not None:\n",
    "                            shape_line_numbers.append(elem.sourceline)\n",
    "\n",
    "    # Debug: Print sample data\n",
    "    print(\"\\nSample presentation line numbers:\", presentation_line_numbers[:10])\n",
    "    print(\"Sample slide line numbers:\", slide_line_numbers[:10])\n",
    "    print(\"Sample shape line numbers:\", shape_line_numbers[:10])\n",
    "\n",
    "    # Analyze distributions and plot graphs\n",
    "    print(\"\\nAnalyzing distributions and generating graphs...\")\n",
    "    analyze_and_plot_distribution(presentation_line_numbers, \"Presentation XML Line Numbers\", \"presentation_line_numbers.png\")\n",
    "    analyze_and_plot_distribution(slide_line_numbers, \"Slide XML Line Numbers\", \"slide_line_numbers.png\")\n",
    "    analyze_and_plot_distribution(shape_line_numbers, \"Shape Element Line Numbers\", \"shape_line_numbers.png\")\n",
    "    print(\"Graphs have been saved as PNG files.\")\n"
   ],
   "id": "f01c3b1554ebd6c",
   "outputs": [],
   "execution_count": 6
  },
  {
   "metadata": {
    "collapsed": true,
    "ExecuteTime": {
     "end_time": "2024-12-02T14:59:14.665659Z",
     "start_time": "2024-12-02T14:59:14.656244Z"
    }
   },
   "cell_type": "code",
   "source": [
    "\n",
    "def analyze_and_plot_distribution(line_numbers, title, filename):\n",
    "    if not line_numbers:\n",
    "        print(f\"No data to analyze for {title}.\")\n",
    "        return\n",
    "\n",
    "    total = len(line_numbers)\n",
    "    line_numbers.sort()\n",
    "    min_line = line_numbers[0]\n",
    "    max_line = line_numbers[-1]\n",
    "    average_line = sum(line_numbers) / total\n",
    "\n",
    "    print(f\"\\n{title}:\")\n",
    "    print(f\"Total count: {total}\")\n",
    "    print(f\"Minimum line number: {min_line}\")\n",
    "    print(f\"Maximum line number: {max_line}\")\n",
    "    print(f\"Average line number: {average_line:.2f}\")\n",
    "\n",
    "    # Plotting the distribution as a histogram\n",
    "    plt.figure(figsize=(10, 6))\n",
    "    plt.hist(line_numbers, bins=30, edgecolor='black', alpha=0.7)\n",
    "    plt.title(f\"Distribution of {title}\")\n",
    "    plt.xlabel('Line Number')\n",
    "    plt.ylabel('Frequency')\n",
    "    plt.grid(axis='y', alpha=0.75)\n",
    "    plt.tight_layout()\n",
    "    plt.savefig(filename)\n",
    "    plt.close()\n",
    "    print(f\"Graph saved as {filename}\")"
   ],
   "id": "initial_id",
   "outputs": [],
   "execution_count": 7
  },
  {
   "metadata": {
    "ExecuteTime": {
     "end_time": "2024-12-02T14:59:24.208987Z",
     "start_time": "2024-12-02T14:59:14.677341Z"
    }
   },
   "cell_type": "code",
   "source": [
    "dir_path = \"/Users/tyrionhuu/projects/research_projects/PPTBench/dataset/pptx\"\n",
    "analyze_pptx_files(dir_path)"
   ],
   "id": "f9cd32699238646d",
   "outputs": [
    {
     "name": "stdout",
     "output_type": "stream",
     "text": [
      "\n",
      "Sample presentation line numbers: [2, 2, 2, 2, 2, 2, 2, 2, 2, 2]\n",
      "Sample slide line numbers: [2, 2, 2, 2, 2, 2, 2, 2, 2, 2]\n",
      "Sample shape line numbers: [2, 2, 2, 2, 2, 2, 2, 2, 2, 2]\n",
      "\n",
      "Analyzing distributions and generating graphs...\n",
      "\n",
      "Presentation XML Line Numbers:\n",
      "Total count: 958\n",
      "Minimum line number: 2\n",
      "Maximum line number: 2\n",
      "Average line number: 2.00\n",
      "Graph saved as presentation_line_numbers.png\n",
      "\n",
      "Slide XML Line Numbers:\n",
      "Total count: 22899\n",
      "Minimum line number: 2\n",
      "Maximum line number: 2\n",
      "Average line number: 2.00\n",
      "Graph saved as slide_line_numbers.png\n",
      "\n",
      "Shape Element Line Numbers:\n",
      "Total count: 182585\n",
      "Minimum line number: 2\n",
      "Maximum line number: 2\n",
      "Average line number: 2.00\n",
      "Graph saved as shape_line_numbers.png\n",
      "Graphs have been saved as PNG files.\n"
     ]
    }
   ],
   "execution_count": 8
  }
 ],
 "metadata": {
  "kernelspec": {
   "display_name": "Python 3",
   "language": "python",
   "name": "python3"
  },
  "language_info": {
   "codemirror_mode": {
    "name": "ipython",
    "version": 2
   },
   "file_extension": ".py",
   "mimetype": "text/x-python",
   "name": "python",
   "nbconvert_exporter": "python",
   "pygments_lexer": "ipython2",
   "version": "2.7.6"
  }
 },
 "nbformat": 4,
 "nbformat_minor": 5
}
